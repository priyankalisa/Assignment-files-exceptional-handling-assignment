{
  "cells": [
    {
      "cell_type": "markdown",
      "metadata": {
        "id": "C_-egQAIaqyt"
      },
      "source": [
        "1. **What is the difference between interpreted and compiled languages?**\n",
        "- **Compiled languages** (like C or C++) translate the entire source code into machine code using a compiler before execution. This results in faster execution but less flexibility.\n",
        "- **Interpreted languages** (like Python) execute code line by line using an interpreter. This makes debugging easier and supports dynamic behavior but is typically slower than compiled languages.\n",
        "2. **What is exception handling in Python?**\n",
        "- Exception handling is the process of managing errors that occur during program execution. Python provides try, except, else, and finally blocks to handle exceptions gracefully without crashing the program. This ensures the program behaves predictably even in unexpected situations.\n",
        "3. **What is the purpose of the finally block in exception handling?**\n",
        "- The finally block contains code that will execute regardless of whether an exception occurred or not. It is typically used for cleanup operations like closing files, releasing resources, or resetting variables to a safe state.\n",
        "4. **What is logging in Python?**\n",
        "- Logging is a way to record messages during the execution of a program. It provides insights into program flow, errors, and runtime behavior. Python’s logging module allows you to track different levels of events (e.g., debug, info, warning, error, critical) and is a better alternative to using print() for debugging.\n",
        "5. **What is the significance of the _del_ method in Python?**\n",
        "- The _del_ method is a special method known as the destructor. It is called when an object is about to be destroyed. It is used to release resources or perform cleanup operations (like closing database connections or files) when an object’s lifetime ends.\n",
        "6. **What is the difference between import and from ... import in Python?**\n",
        "- import module: You access module functions using module.function().\n",
        "- from module import func: You access the function directly as func(), without the module prefix.\n",
        "- Using from ... import gives convenience, while import is more explicit and avoids naming conflicts.\n",
        "7. **How can you handle multiple exceptions in Python?**\n",
        "- In Python, multiple exceptions can occur in a try block. To ensure the program doesn't crash and responds appropriately, Python provides multiple ways to handle them.\n",
        "  1. **Multiple except blocks:** Handle each exception separately.\n",
        "try:\n",
        "    #risky code\n",
        "except ValueError:\n",
        "    #handle ValueError\n",
        "except IndexError:\n",
        "    #handle IndexError\n",
        "  2. **Single except with multiple exceptions:** Use a tuple if handling is the same.\n",
        "try:\n",
        "    #risky code\n",
        "except (ValueError, IndexError):\n",
        "    #handle both\n",
        "  3. **Generic exception handling:** Catches any exception (not recommended unless necessary).\n",
        "try:\n",
        "    #risky code\n",
        "except Exception as e:\n",
        "    print(\"Error:\", e)\n",
        "\n",
        "8. **What is the purpose of the with statement when handling files in Python?**\n",
        "- The with statement ensures that a file is automatically closed after its suite finishes execution, even if an error occurs. It improves readability and reliability of file handling code by managing resources more efficiently.\n",
        "9. **What is the difference between multithreading and multiprocessing?**\n",
        "- Multithreading allows multiple threads to run concurrently within the same process, sharing memory space. It is best for I/O-bound tasks (like file reading or network operations).\n",
        "- Multiprocessing runs separate processes, each with its own memory space. It is suitable for CPU-bound tasks where parallel execution across multiple cores is beneficial\n",
        "10. **What are the advantages of using logging in a program?**\n",
        "- Tracks program execution and errors over time.\n",
        "- Useful in debugging without altering code structure.\n",
        "- Supports multiple levels (DEBUG, INFO, etc.).\n",
        "- Can output logs to files, consoles, or remote servers.\n",
        "- Helps in maintaining production code.\n",
        "11. **What is memory management in Python?**\n",
        "- Python uses automatic memory management, which includes reference counting, a built-in garbage collector, and memory pooling. Objects are tracked and freed when they are no longer needed, allowing developers to focus on logic rather than manual memory allocation or deallocation.\n",
        "12. **What are the basic steps involved in exception handling in Python?**\n",
        "- Code that might raise an error is written in a try block.\n",
        "- If an error occurs, control moves to the matching except block.\n",
        "- If no error occurs, the optional else block is executed.\n",
        "- The finally block runs regardless of whether an exception occurred.\n",
        "13. **Why is memory management important in Python?**\n",
        "- Prevents Memory Leaks: Ensures unused memory is freed to avoid slowdowns.\n",
        "- Optimizes Performance: Keeps the program running efficiently by using resources wisely.\n",
        "- Supports Large Applications: Essential for managing memory in long-running or complex programs.\n",
        "- Improves Stability: Reduces the chances of crashes due to memory overuse.\n",
        "14. **What is the role of try and except in exception handling?**\n",
        "- try: Defines a block of code to test for errors.\n",
        "- except: Defines a block of code to handle those errors.\n",
        "Together, they prevent the program from crashing and allow graceful recovery from unexpected situations.\n",
        "15. **How does Python's garbage collection system work?**\n",
        "- Python uses reference counting and cyclic garbage collection to manage memory. Each object keeps track of how many references point to it. When the count reaches zero, the object is deallocated. Python also periodically detects and frees circular references using its garbage collector.\n",
        "16. **What is the purpose of the else block in exception handling?**\n",
        "- The else block runs only if no exception is raised in the try block. It is useful for keeping the normal execution logic separate from error handling.\n",
        "17. **What are the common logging levels in Python?**\n",
        "- DEBUG: Detailed information, useful for debugging.\n",
        "- INFO: General events confirming that things are working.\n",
        "- WARNING: Something unexpected, but the program still runs.\n",
        "- ERROR: Serious problems that affect program flow.\n",
        "- CRITICAL: Very serious errors that may cause the program to stop.\n",
        "18. **What is the difference between os.fork() and multiprocessing in Python?**\n",
        "- os.fork(): Unix-only; creates a new child process by duplicating the current process.\n",
        "- multiprocessing: Cross-platform; creates new processes using Process class. It’s more portable and easier to manage.\n",
        "19. **What is the importance of closing a file in Python?**\n",
        "- Closing a file:\n",
        "  - Frees system resources.\n",
        "  - Ensures all data is written from buffer to disk.\n",
        "  - Prevents file corruption or unexpected behavior.\n",
        "20. **What is the difference between file.read() and file.readline() in Python?**\n",
        "- file.read(): Reads the entire content of a file as a single string.\n",
        "- file.readline(): Reads one line at a time. Useful when processing files line by line.\n",
        "21. **What is the logging module in Python used for?**\n",
        "- The logging module provides a standardized way to log messages from your Python application. It helps monitor program execution, report errors, and diagnose issues without interrupting normal output.\n",
        "22. **What is the os module in Python used for in file handling?**\n",
        "- The os module allows interaction with the operating system for tasks like:\n",
        "  - Checking if files/directories exist\n",
        "  - Creating, renaming, or deleting files/folders\n",
        "  - Getting file properties (like size, last modified time)\n",
        "  - Navigating the file system\n",
        "23. **What are the challenges associated with memory management in Python?**\n",
        "- Circular references: Hard to detect and clean up.\n",
        "- Large objects in memory: May not be released immediately.\n",
        "- Global variables or caches: Can retain memory unnecessarily.\n",
        "- Developers must design efficiently even with automatic garbage collection.\n",
        "24. **How do you raise an exception manually in Python?**\n",
        "- In Python, you can raise an exception manually using the raise keyword.\n",
        "- Syntax: raise ExceptionType(\"Custom error message\")\n",
        "25. **Why is it important to use multithreading in certain applications?**\n",
        "- Improves Responsiveness: Keeps applications (e.g., GUIs) responsive during long operations.\n",
        "- Efficient I/O Handling: Ideal for tasks like file reading, network calls, and user input.\n",
        "- Better Resource Utilization: Allows CPU to work while waiting for I/O-bound tasks to complete.\n",
        "- Faster Execution for Concurrent Tasks: Enables simultaneous execution of independent tasks.\n",
        "- Simplifies Program Structure: Easier to manage real-time operations (e.g., timers, background tasks)."
      ]
    },
    {
      "cell_type": "code",
      "execution_count": 1,
      "metadata": {
        "id": "Slh4yshsaikO"
      },
      "outputs": [],
      "source": [
        "'''1.How can you open a file for writing in Python and write a string to it?'''\n",
        "file=open(\"file.txt\",\"w\")\n",
        "file.write(\"This is a file.\")\n",
        "file.close()"
      ]
    },
    {
      "cell_type": "code",
      "execution_count": 2,
      "metadata": {
        "colab": {
          "base_uri": "https://localhost:8080/"
        },
        "id": "iLk5hXBpb6ED",
        "outputId": "b5620e87-7ba6-420e-93c0-a990a54781b4"
      },
      "outputs": [
        {
          "output_type": "stream",
          "name": "stdout",
          "text": [
            "This is a file.\n"
          ]
        }
      ],
      "source": [
        "'''2.Write a Python program to read the contents of a file and print each line.'''\n",
        "file=open(\"file.txt\",\"r\")\n",
        "file.read()\n",
        "file.seek(0)\n",
        "for i in file:\n",
        "  print(i)\n",
        "file.close()"
      ]
    },
    {
      "cell_type": "code",
      "execution_count": 3,
      "metadata": {
        "colab": {
          "base_uri": "https://localhost:8080/"
        },
        "id": "EI4briQ1cD1T",
        "outputId": "911bdd81-bf6b-44ee-af1a-1ca95bb63268"
      },
      "outputs": [
        {
          "output_type": "stream",
          "name": "stdout",
          "text": [
            "This is the way I handle a case where the file doesn't exist while trying to open it for reading.\n",
            "And the error is: [Errno 2] No such file or directory: 'f.txt'\n"
          ]
        }
      ],
      "source": [
        "'''3. How would you handle a case where the file doesn't exist while trying to open it for reading?'''\n",
        "try:\n",
        "  file=open(\"f.txt\",\"r\")\n",
        "except Exception as e:\n",
        "  print(\"This is the way I handle a case where the file doesn't exist while trying to open it for reading.\\nAnd the error is:\",e)"
      ]
    },
    {
      "cell_type": "code",
      "execution_count": 4,
      "metadata": {
        "id": "WU6Qz8hicDx5",
        "colab": {
          "base_uri": "https://localhost:8080/"
        },
        "outputId": "77331632-b583-462c-de9c-d788ea3d1e9b"
      },
      "outputs": [
        {
          "output_type": "stream",
          "name": "stdout",
          "text": [
            "File copied successfully using shutil.\n"
          ]
        }
      ],
      "source": [
        "'''4.Write a Python script that reads from one file and writes its content to another file.'''\n",
        "import shutil\n",
        "f=open(\"source.txt\",\"w\")\n",
        "f.write(\"This is a text file.\")\n",
        "f.close()\n",
        "f=open(\"destination.txt\",\"w\")\n",
        "f.close()\n",
        "shutil.copy(\"source.txt\",\"destination.txt\")\n",
        "print(\"File copied successfully using shutil.\")"
      ]
    },
    {
      "cell_type": "code",
      "execution_count": 5,
      "metadata": {
        "colab": {
          "base_uri": "https://localhost:8080/"
        },
        "id": "7W3Na_UecSwM",
        "outputId": "b3388dd3-dc09-44d8-f9eb-7c77436c893f"
      },
      "outputs": [
        {
          "output_type": "stream",
          "name": "stdout",
          "text": [
            "Enter a number:5\n",
            "Error occured: division by zero\n"
          ]
        }
      ],
      "source": [
        "'''5. How would you catch and handle division by zero error in Python?'''\n",
        "try:\n",
        "  num=int(input(\"Enter a number:\"))\n",
        "  print(num/0)\n",
        "except Exception as e:\n",
        "  print(\"Error occured:\",e)"
      ]
    },
    {
      "cell_type": "code",
      "execution_count": 6,
      "metadata": {
        "id": "iejecL18cDva",
        "colab": {
          "base_uri": "https://localhost:8080/"
        },
        "outputId": "5ffd346f-8c4d-4ff4-e0d0-e833ee5c7a27"
      },
      "outputs": [
        {
          "output_type": "stream",
          "name": "stderr",
          "text": [
            "ERROR:root:You tried to divide by zero.\n"
          ]
        }
      ],
      "source": [
        "'''6. Write a Python program that logs an error message to a log file when a division by zero exception occurs.'''\n",
        "import logging\n",
        "logging.basicConfig(filename=\"error.log\", level=logging.ERROR)\n",
        "try:\n",
        "    x = 10\n",
        "    y = 0\n",
        "    result = x / y\n",
        "except ZeroDivisionError:\n",
        "    logging.error(\"You tried to divide by zero.\")"
      ]
    },
    {
      "cell_type": "code",
      "execution_count": 7,
      "metadata": {
        "id": "LdReBMd_cDs5",
        "colab": {
          "base_uri": "https://localhost:8080/"
        },
        "outputId": "3c799a5c-c709-4a3a-930d-edbad4448613"
      },
      "outputs": [
        {
          "output_type": "stream",
          "name": "stderr",
          "text": [
            "WARNING:root:This is a WARNING message (something unexpected).\n",
            "ERROR:root:This is an ERROR message (an error occurred).\n"
          ]
        }
      ],
      "source": [
        "'''7.How do you log information at different levels (INFO, ERROR, WARNING) in Python using the logging module?'''\n",
        "import logging\n",
        "logging.basicConfig(\n",
        "    filename=\"a.log\",\n",
        "    level=logging.INFO\n",
        ")\n",
        "logging.info(\"This is an INFO message (general information).\")\n",
        "logging.warning(\"This is a WARNING message (something unexpected).\")\n",
        "logging.error(\"This is an ERROR message (an error occurred).\")"
      ]
    },
    {
      "cell_type": "code",
      "execution_count": 8,
      "metadata": {
        "colab": {
          "base_uri": "https://localhost:8080/"
        },
        "id": "AJnHxpuJcDqi",
        "outputId": "f685acfe-a6b3-4154-b782-8d6a47fa43ad"
      },
      "outputs": [
        {
          "output_type": "stream",
          "name": "stdout",
          "text": [
            "Error occured: [Errno 2] No such file or directory: 'file_1.txt'\n"
          ]
        }
      ],
      "source": [
        "'''8. Write a program to handle a file opening error using exception handling.'''\n",
        "try:\n",
        "  file = open(\"file_1.txt\", \"r\")\n",
        "except Exception as e:\n",
        "  print(\"Error occured:\",e)"
      ]
    },
    {
      "cell_type": "code",
      "execution_count": 9,
      "metadata": {
        "colab": {
          "base_uri": "https://localhost:8080/"
        },
        "id": "jiU-oYXocDnc",
        "outputId": "0c49cf05-f074-4091-b87e-878d8ee28601"
      },
      "outputs": [
        {
          "output_type": "stream",
          "name": "stdout",
          "text": [
            "This is a file.\n",
            "\n",
            "This is the 1st line.\n",
            "\n",
            "This is the 2nd line.\n",
            "\n",
            "This is the 3rd line.\n",
            "\n",
            "This is the 4th line.\n",
            "\n",
            "This is the 5th line.\n",
            "\n",
            "['This is a file.\\n', 'This is the 1st line.\\n', 'This is the 2nd line.\\n', 'This is the 3rd line.\\n', 'This is the 4th line.\\n', 'This is the 5th line.\\n']\n"
          ]
        }
      ],
      "source": [
        "'''9. How can you read a file line by line and store its content in a list in Python?'''\n",
        "file=open(\"file_2.txt\",\"w\")\n",
        "file.write(\"This is a file.\\n\")\n",
        "file.write(\"This is the 1st line.\\n\")\n",
        "file.write(\"This is the 2nd line.\\n\")\n",
        "file.write(\"This is the 3rd line.\\n\")\n",
        "file.write(\"This is the 4th line.\\n\")\n",
        "file.write(\"This is the 5th line.\\n\")\n",
        "file.close()\n",
        "file=open(\"file_2.txt\",\"r\")\n",
        "for i in file:\n",
        "  print(i)\n",
        "file.close()\n",
        "file=open(\"file_2.txt\",\"r\")\n",
        "print(file.readlines())\n",
        "file.close()"
      ]
    },
    {
      "cell_type": "code",
      "execution_count": 10,
      "metadata": {
        "id": "yKuA8rcscDk5"
      },
      "outputs": [],
      "source": [
        "'''10. How can you append data to an existing file in Python?'''\n",
        "file=open(\"file_2.txt\",\"a\")\n",
        "file.write(\"This is an existing file.\")\n",
        "file.close()"
      ]
    },
    {
      "cell_type": "code",
      "execution_count": 11,
      "metadata": {
        "colab": {
          "base_uri": "https://localhost:8080/"
        },
        "id": "o_00cMkKcDht",
        "outputId": "60a629ee-4a28-435c-f65d-62d21c1f1d53"
      },
      "outputs": [
        {
          "output_type": "stream",
          "name": "stdout",
          "text": [
            "Keyerror occurred: 'age'\n"
          ]
        }
      ],
      "source": [
        "'''11.Write a Python program that uses a try-except block to handle an error when attempting to access a\n",
        "dictionary key that doesn't exist.'''\n",
        "try:\n",
        "    my_dict = {\"name\": \"lisa\"}\n",
        "    print(my_dict[\"age\"])\n",
        "except KeyError as e:\n",
        "    print(\"Keyerror occurred:\", e)\n"
      ]
    },
    {
      "cell_type": "code",
      "execution_count": 12,
      "metadata": {
        "colab": {
          "base_uri": "https://localhost:8080/"
        },
        "id": "xEtrt6jJcDe_",
        "outputId": "9e843065-a956-419d-86f5-76638e005f5a"
      },
      "outputs": [
        {
          "output_type": "stream",
          "name": "stdout",
          "text": [
            "Error occurred: list index out of range\n",
            "Error occurred: 'age'\n"
          ]
        }
      ],
      "source": [
        "'''12. Write a program that demonstrates using multiple except blocks to handle different types of exceptions.'''\n",
        "try:\n",
        "    my_list = [10, 20, 30]\n",
        "    print(my_list[5])\n",
        "except IndexError as i:\n",
        "    print(\"Error occurred:\", i)\n",
        "try:\n",
        "    my_dict = {\"name\": \"lisa\"}\n",
        "    print(my_dict[\"age\"])\n",
        "except KeyError as e:\n",
        "    print(\"Error occurred:\", e)\n"
      ]
    },
    {
      "cell_type": "code",
      "execution_count": 13,
      "metadata": {
        "id": "gLHx_UrpcDcQ",
        "colab": {
          "base_uri": "https://localhost:8080/"
        },
        "outputId": "d8f52ce7-abbd-4408-8151-ff40ba4c107c"
      },
      "outputs": [
        {
          "output_type": "stream",
          "name": "stdout",
          "text": [
            "Fails if file exists.\n",
            "And the error is: [Errno 17] File exists: 'file.txt'\n"
          ]
        }
      ],
      "source": [
        "'''13. How would you check if a file exists before attempting to read it in Python?'''\n",
        "try:\n",
        "  f=open(\"file.txt\",\"x\")\n",
        "  f.close()\n",
        "except Exception as e:\n",
        "  print(\"Fails if file exists.\\nAnd the error is:\",e)"
      ]
    },
    {
      "cell_type": "code",
      "execution_count": 14,
      "metadata": {
        "id": "2FacUxe3cDZo",
        "colab": {
          "base_uri": "https://localhost:8080/"
        },
        "outputId": "ff9067bd-815b-4a7f-d63a-004e97e37e67"
      },
      "outputs": [
        {
          "output_type": "stream",
          "name": "stderr",
          "text": [
            "WARNING:root:This is a WARNING message (something unexpected).\n",
            "ERROR:root:This is an ERROR message (an error occurred).\n",
            "CRITICAL:root:This ia a CRITICAL message.\n"
          ]
        },
        {
          "output_type": "stream",
          "name": "stdout",
          "text": [
            "This is a DEBUG message.\n",
            "This is an INFO message (general information).\n",
            "This is a WARNING message (something unexpected).\n",
            "This is an ERROR message (an error occurred).\n",
            "This ia a CRITICAL message.\n"
          ]
        }
      ],
      "source": [
        "'''14. Write a program that uses the logging module to log both informational and error messages.'''\n",
        "import logging\n",
        "logging.basicConfig(\n",
        "    filename=\"b.log\",\n",
        "    level=logging.DEBUG\n",
        ")\n",
        "logging.debug(\"This is a DEBUG message.\")\n",
        "print(\"This is a DEBUG message.\")\n",
        "logging.info(\"This is an INFO message (general information).\")\n",
        "print(\"This is an INFO message (general information).\")\n",
        "logging.warning(\"This is a WARNING message (something unexpected).\")\n",
        "print(\"This is a WARNING message (something unexpected).\")\n",
        "logging.error(\"This is an ERROR message (an error occurred).\")\n",
        "print(\"This is an ERROR message (an error occurred).\")\n",
        "logging.critical(\"This ia a CRITICAL message.\")\n",
        "print(\"This ia a CRITICAL message.\")"
      ]
    },
    {
      "cell_type": "code",
      "execution_count": 15,
      "metadata": {
        "colab": {
          "base_uri": "https://localhost:8080/"
        },
        "id": "sOAVQsAucDWW",
        "outputId": "607318ed-9c25-49f5-b8bc-30ae21e26d90"
      },
      "outputs": [
        {
          "output_type": "stream",
          "name": "stdout",
          "text": [
            "Contents of file.txt:\n",
            " This is a file.\n",
            "f_1.txt is empty.\n"
          ]
        }
      ],
      "source": [
        "'''15. Write a Python program that prints the content of a file and handles the case when the file is empty.'''\n",
        "try:\n",
        "    f = open(\"file.txt\", \"r\")\n",
        "    content = f.read()\n",
        "    f.close()\n",
        "    if content.strip() == \"\":\n",
        "        print(\"file.txt is empty.\")\n",
        "    else:\n",
        "        print(\"Contents of file.txt:\\n\", content)\n",
        "except Exception as e:\n",
        "    print(\"Error reading file.txt:\", e)\n",
        "try:\n",
        "    f = open(\"f_1.txt\", \"r\")\n",
        "    content = f.read()\n",
        "    f.close()\n",
        "    if content.strip() == \"\":\n",
        "        print(\"f_1.txt is empty.\")\n",
        "    else:\n",
        "        print(\"Contents of f_1.txt:\\n\", content)\n",
        "except Exception as e:\n",
        "    print(\"Error reading f_1.txt:\", e)\n"
      ]
    },
    {
      "cell_type": "code",
      "execution_count": 16,
      "metadata": {
        "id": "63BNPKY2cDTc",
        "colab": {
          "base_uri": "https://localhost:8080/"
        },
        "outputId": "9a1d1614-b9b1-4d36-f2fb-169e8c6e6603"
      },
      "outputs": [
        {
          "output_type": "stream",
          "name": "stdout",
          "text": [
            "Memory used: 100.26 MB\n",
            "Memory used: 138.54 MB\n"
          ]
        }
      ],
      "source": [
        "'''16. Demonstrate how to use memory profiling to check the memory usage of a small program.'''\n",
        "import psutil\n",
        "import os\n",
        "def memory_usage():\n",
        "    process = psutil.Process(os.getpid())\n",
        "    print(f\"Memory used: {process.memory_info().rss / 1024 ** 2:.2f} MB\")\n",
        "memory_usage()\n",
        "a = [i for i in range(1000000)]\n",
        "memory_usage()"
      ]
    },
    {
      "cell_type": "code",
      "execution_count": 17,
      "metadata": {
        "id": "RFCpwasacDQz",
        "colab": {
          "base_uri": "https://localhost:8080/"
        },
        "outputId": "f2de4f41-2aa4-4dd3-e3f8-6fc2da2d6eb7"
      },
      "outputs": [
        {
          "output_type": "stream",
          "name": "stdout",
          "text": [
            "Numbers written to file successfully.\n"
          ]
        }
      ],
      "source": [
        "'''17. Write a Python program to create and write a list of numbers to a file, one number per line.'''\n",
        "numbers = [1, 2, 3, 4, 5]\n",
        "with open(\"numbers.txt\", \"w\") as file:\n",
        "    for num in numbers:\n",
        "        file.write(str(num) + \"\\n\")\n",
        "\n",
        "print(\"Numbers written to file successfully.\")\n"
      ]
    },
    {
      "cell_type": "code",
      "execution_count": 18,
      "metadata": {
        "id": "TrF4ZfS2cDOF"
      },
      "outputs": [],
      "source": [
        "'''18. How would you implement a basic logging setup that logs to a file with rotation after 1MB.'''\n",
        "import logging\n",
        "from logging.handlers import RotatingFileHandler\n",
        "log_handler = RotatingFileHandler(\"app.log\", maxBytes=1000000, backupCount=1)\n",
        "logging.basicConfig(\n",
        "    level=logging.INFO,\n",
        "    handlers=[log_handler],\n",
        "    format='%(asctime)s - %(levelname)s - %(message)s'\n",
        ")\n",
        "for i in range(10000):\n",
        "    logging.info(f\"Log message {i}\")\n"
      ]
    },
    {
      "cell_type": "code",
      "execution_count": 19,
      "metadata": {
        "colab": {
          "base_uri": "https://localhost:8080/"
        },
        "id": "3ABZ-zH7cDLV",
        "outputId": "9e4d7b4a-e381-4f1a-d15c-c7fd2bc734e3"
      },
      "outputs": [
        {
          "output_type": "stream",
          "name": "stdout",
          "text": [
            "Error occurred: list index out of range\n",
            "Error occurred: 'age'\n"
          ]
        }
      ],
      "source": [
        "'''19. Write a program that handles both IndexError and KeyError using a try-except block.'''\n",
        "try:\n",
        "    my_list = [10, 20, 30]\n",
        "    print(my_list[5])\n",
        "except IndexError as i:\n",
        "    print(\"Error occurred:\", i)\n",
        "try:\n",
        "    my_dict = {\"name\": \"lisa\"}\n",
        "    print(my_dict[\"age\"])\n",
        "except KeyError as e:\n",
        "    print(\"Error occurred:\", e)\n"
      ]
    },
    {
      "cell_type": "code",
      "execution_count": 20,
      "metadata": {
        "id": "qGJYa2z-cDIz",
        "colab": {
          "base_uri": "https://localhost:8080/"
        },
        "outputId": "7d1bb94c-65d6-419d-d91d-7c6028054d43"
      },
      "outputs": [
        {
          "output_type": "stream",
          "name": "stdout",
          "text": [
            "This is a file.\n"
          ]
        }
      ],
      "source": [
        "'''20. How would you open a file and read its contents using a context manager in Python.'''\n",
        "with open(\"file.txt\", \"r\") as file:\n",
        "    content = file.read()\n",
        "    print(content)"
      ]
    },
    {
      "cell_type": "code",
      "execution_count": 21,
      "metadata": {
        "id": "qDGOYMeNcDGJ",
        "colab": {
          "base_uri": "https://localhost:8080/"
        },
        "outputId": "6ded893c-8094-4fb5-d422-77c98fbd7fbc"
      },
      "outputs": [
        {
          "output_type": "stream",
          "name": "stdout",
          "text": [
            "The word 'python' appears 3 times.\n"
          ]
        }
      ],
      "source": [
        "'''21. Write a Python program that reads a file and prints the number of occurrences of a specific word.'''\n",
        "filename = \"s.txt\"\n",
        "word = \"python\"\n",
        "f=open(filename,\"w\")\n",
        "f.write(\"Python is fun. Python is powerful. I love python!\")\n",
        "f.close()\n",
        "try:\n",
        "    with open(filename, \"r\") as file:\n",
        "        text = file.read()\n",
        "        count = text.lower().count(word.lower())\n",
        "        print(f\"The word '{word}' appears {count} times.\")\n",
        "except FileNotFoundError:\n",
        "    print(\"File not found!\")\n"
      ]
    },
    {
      "cell_type": "code",
      "execution_count": 22,
      "metadata": {
        "id": "ae-ot5LucDDa",
        "colab": {
          "base_uri": "https://localhost:8080/"
        },
        "outputId": "75c38156-06b5-4a4b-983d-42e9aa809446"
      },
      "outputs": [
        {
          "output_type": "stream",
          "name": "stdout",
          "text": [
            "File is empty.\n"
          ]
        }
      ],
      "source": [
        "'''22. How can you check if a file is empty before attempting to read its contents?'''\n",
        "f=open(\"f_1.txt\",\"w\")\n",
        "f.close()\n",
        "with open(\"f_1.txt\", \"r\") as f:\n",
        "    content = f.read()\n",
        "    if content == \"\":\n",
        "        print(\"File is empty.\")\n",
        "    else:\n",
        "        print(\"File content:\\n\", content)"
      ]
    },
    {
      "cell_type": "code",
      "execution_count": 23,
      "metadata": {
        "id": "GKjppcflcDAx",
        "colab": {
          "base_uri": "https://localhost:8080/"
        },
        "outputId": "88c02e35-a70c-4e75-8c82-c491be3ed0e4"
      },
      "outputs": [
        {
          "output_type": "stream",
          "name": "stderr",
          "text": [
            "ERROR:root:File not found: myfile.txt\n"
          ]
        },
        {
          "output_type": "stream",
          "name": "stdout",
          "text": [
            "File not found!\n"
          ]
        }
      ],
      "source": [
        "'''23. Write a Python program that writes to a log file when an error occurs during file handling.'''\n",
        "import logging\n",
        "logging.basicConfig(filename='error.log', level=logging.ERROR)\n",
        "try:\n",
        "    with open(\"myfile.txt\", \"r\") as f:\n",
        "        content = f.read()\n",
        "        print(content)\n",
        "except FileNotFoundError:\n",
        "    print(\"File not found!\")\n",
        "    logging.error(\"File not found: myfile.txt\")"
      ]
    }
  ],
  "metadata": {
    "colab": {
      "provenance": []
    },
    "kernelspec": {
      "display_name": "Python 3",
      "name": "python3"
    },
    "language_info": {
      "name": "python"
    }
  },
  "nbformat": 4,
  "nbformat_minor": 0
}